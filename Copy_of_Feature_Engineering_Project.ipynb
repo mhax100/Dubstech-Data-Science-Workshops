{
  "nbformat": 4,
  "nbformat_minor": 0,
  "metadata": {
    "colab": {
      "name": "Copy of Feature_Engineering_Project.ipynb",
      "provenance": [],
      "collapsed_sections": [],
      "toc_visible": true,
      "include_colab_link": true
    },
    "kernelspec": {
      "name": "python3",
      "display_name": "Python 3"
    }
  },
  "cells": [
    {
      "cell_type": "markdown",
      "metadata": {
        "id": "view-in-github",
        "colab_type": "text"
      },
      "source": [
        "<a href=\"https://colab.research.google.com/github/mhax100/Dubstech-Data-Science-Workshops/blob/master/Copy_of_Feature_Engineering_Project.ipynb\" target=\"_parent\"><img src=\"https://colab.research.google.com/assets/colab-badge.svg\" alt=\"Open In Colab\"/></a>"
      ]
    },
    {
      "cell_type": "markdown",
      "metadata": {
        "id": "cDEq2cnty492",
        "colab_type": "text"
      },
      "source": [
        "# FEATURE ENGINEERING PROJECT:\n",
        "Using feature engineering on the California housing dataset to build an ML model to predict the median house value. "
      ]
    },
    {
      "cell_type": "markdown",
      "metadata": {
        "id": "yFTxu9MP1mFp",
        "colab_type": "text"
      },
      "source": [
        "## STEP 1: IMPORT PACKAGES & LIBRARIES"
      ]
    },
    {
      "cell_type": "markdown",
      "metadata": {
        "id": "l_I0niYgzpVM",
        "colab_type": "text"
      },
      "source": [
        "Importing the packages and libraries we require for our feature engineering project."
      ]
    },
    {
      "cell_type": "code",
      "metadata": {
        "id": "cg3wC0-0y5LW",
        "colab_type": "code",
        "colab": {}
      },
      "source": [
        "import numpy as np\n",
        "import pandas as pd\n",
        "import math\n",
        "import tensorflow as tf\n",
        "from IPython.core import display as ICD"
      ],
      "execution_count": 0,
      "outputs": []
    },
    {
      "cell_type": "markdown",
      "metadata": {
        "id": "x_GOUBoE1qjf",
        "colab_type": "text"
      },
      "source": [
        "## STEP 2: READ IN DATA\n",
        "Reading in our data into the data frame and using the .head() function to get a look at it."
      ]
    },
    {
      "cell_type": "code",
      "metadata": {
        "id": "rFUBoROr2NKO",
        "colab_type": "code",
        "outputId": "2e2f08d3-876a-4a64-afc3-ae07f79b2bdc",
        "colab": {
          "base_uri": "https://localhost:8080/",
          "height": 556
        }
      },
      "source": [
        "# WE STORE OUR DATA INTO A DATA FRAME CALLED cal_df ON WHICH WE WILL OPERATE\n",
        "cal_df = pd.read_csv(\"sample_data/california_housing_train.csv\", sep=\",\")\n",
        "print('Original Dataset:')\n",
        "# WE WILL DISPLAY OUR DATASET USING THE DISPLAY PACKAGE AND HEAD FUNCTION\n",
        "ICD.display(cal_df.head(15))"
      ],
      "execution_count": 0,
      "outputs": [
        {
          "output_type": "stream",
          "text": [
            "Original Dataset:\n"
          ],
          "name": "stdout"
        },
        {
          "output_type": "display_data",
          "data": {
            "text/html": [
              "<div>\n",
              "<style scoped>\n",
              "    .dataframe tbody tr th:only-of-type {\n",
              "        vertical-align: middle;\n",
              "    }\n",
              "\n",
              "    .dataframe tbody tr th {\n",
              "        vertical-align: top;\n",
              "    }\n",
              "\n",
              "    .dataframe thead th {\n",
              "        text-align: right;\n",
              "    }\n",
              "</style>\n",
              "<table border=\"1\" class=\"dataframe\">\n",
              "  <thead>\n",
              "    <tr style=\"text-align: right;\">\n",
              "      <th></th>\n",
              "      <th>longitude</th>\n",
              "      <th>latitude</th>\n",
              "      <th>housing_median_age</th>\n",
              "      <th>total_rooms</th>\n",
              "      <th>total_bedrooms</th>\n",
              "      <th>population</th>\n",
              "      <th>households</th>\n",
              "      <th>median_income</th>\n",
              "      <th>median_house_value</th>\n",
              "    </tr>\n",
              "  </thead>\n",
              "  <tbody>\n",
              "    <tr>\n",
              "      <th>0</th>\n",
              "      <td>-114.31</td>\n",
              "      <td>34.19</td>\n",
              "      <td>15.0</td>\n",
              "      <td>5612.0</td>\n",
              "      <td>1283.0</td>\n",
              "      <td>1015.0</td>\n",
              "      <td>472.0</td>\n",
              "      <td>1.4936</td>\n",
              "      <td>66900.0</td>\n",
              "    </tr>\n",
              "    <tr>\n",
              "      <th>1</th>\n",
              "      <td>-114.47</td>\n",
              "      <td>34.40</td>\n",
              "      <td>19.0</td>\n",
              "      <td>7650.0</td>\n",
              "      <td>1901.0</td>\n",
              "      <td>1129.0</td>\n",
              "      <td>463.0</td>\n",
              "      <td>1.8200</td>\n",
              "      <td>80100.0</td>\n",
              "    </tr>\n",
              "    <tr>\n",
              "      <th>2</th>\n",
              "      <td>-114.56</td>\n",
              "      <td>33.69</td>\n",
              "      <td>17.0</td>\n",
              "      <td>720.0</td>\n",
              "      <td>174.0</td>\n",
              "      <td>333.0</td>\n",
              "      <td>117.0</td>\n",
              "      <td>1.6509</td>\n",
              "      <td>85700.0</td>\n",
              "    </tr>\n",
              "    <tr>\n",
              "      <th>3</th>\n",
              "      <td>-114.57</td>\n",
              "      <td>33.64</td>\n",
              "      <td>14.0</td>\n",
              "      <td>1501.0</td>\n",
              "      <td>337.0</td>\n",
              "      <td>515.0</td>\n",
              "      <td>226.0</td>\n",
              "      <td>3.1917</td>\n",
              "      <td>73400.0</td>\n",
              "    </tr>\n",
              "    <tr>\n",
              "      <th>4</th>\n",
              "      <td>-114.57</td>\n",
              "      <td>33.57</td>\n",
              "      <td>20.0</td>\n",
              "      <td>1454.0</td>\n",
              "      <td>326.0</td>\n",
              "      <td>624.0</td>\n",
              "      <td>262.0</td>\n",
              "      <td>1.9250</td>\n",
              "      <td>65500.0</td>\n",
              "    </tr>\n",
              "    <tr>\n",
              "      <th>5</th>\n",
              "      <td>-114.58</td>\n",
              "      <td>33.63</td>\n",
              "      <td>29.0</td>\n",
              "      <td>1387.0</td>\n",
              "      <td>236.0</td>\n",
              "      <td>671.0</td>\n",
              "      <td>239.0</td>\n",
              "      <td>3.3438</td>\n",
              "      <td>74000.0</td>\n",
              "    </tr>\n",
              "    <tr>\n",
              "      <th>6</th>\n",
              "      <td>-114.58</td>\n",
              "      <td>33.61</td>\n",
              "      <td>25.0</td>\n",
              "      <td>2907.0</td>\n",
              "      <td>680.0</td>\n",
              "      <td>1841.0</td>\n",
              "      <td>633.0</td>\n",
              "      <td>2.6768</td>\n",
              "      <td>82400.0</td>\n",
              "    </tr>\n",
              "    <tr>\n",
              "      <th>7</th>\n",
              "      <td>-114.59</td>\n",
              "      <td>34.83</td>\n",
              "      <td>41.0</td>\n",
              "      <td>812.0</td>\n",
              "      <td>168.0</td>\n",
              "      <td>375.0</td>\n",
              "      <td>158.0</td>\n",
              "      <td>1.7083</td>\n",
              "      <td>48500.0</td>\n",
              "    </tr>\n",
              "    <tr>\n",
              "      <th>8</th>\n",
              "      <td>-114.59</td>\n",
              "      <td>33.61</td>\n",
              "      <td>34.0</td>\n",
              "      <td>4789.0</td>\n",
              "      <td>1175.0</td>\n",
              "      <td>3134.0</td>\n",
              "      <td>1056.0</td>\n",
              "      <td>2.1782</td>\n",
              "      <td>58400.0</td>\n",
              "    </tr>\n",
              "    <tr>\n",
              "      <th>9</th>\n",
              "      <td>-114.60</td>\n",
              "      <td>34.83</td>\n",
              "      <td>46.0</td>\n",
              "      <td>1497.0</td>\n",
              "      <td>309.0</td>\n",
              "      <td>787.0</td>\n",
              "      <td>271.0</td>\n",
              "      <td>2.1908</td>\n",
              "      <td>48100.0</td>\n",
              "    </tr>\n",
              "    <tr>\n",
              "      <th>10</th>\n",
              "      <td>-114.60</td>\n",
              "      <td>33.62</td>\n",
              "      <td>16.0</td>\n",
              "      <td>3741.0</td>\n",
              "      <td>801.0</td>\n",
              "      <td>2434.0</td>\n",
              "      <td>824.0</td>\n",
              "      <td>2.6797</td>\n",
              "      <td>86500.0</td>\n",
              "    </tr>\n",
              "    <tr>\n",
              "      <th>11</th>\n",
              "      <td>-114.60</td>\n",
              "      <td>33.60</td>\n",
              "      <td>21.0</td>\n",
              "      <td>1988.0</td>\n",
              "      <td>483.0</td>\n",
              "      <td>1182.0</td>\n",
              "      <td>437.0</td>\n",
              "      <td>1.6250</td>\n",
              "      <td>62000.0</td>\n",
              "    </tr>\n",
              "    <tr>\n",
              "      <th>12</th>\n",
              "      <td>-114.61</td>\n",
              "      <td>34.84</td>\n",
              "      <td>48.0</td>\n",
              "      <td>1291.0</td>\n",
              "      <td>248.0</td>\n",
              "      <td>580.0</td>\n",
              "      <td>211.0</td>\n",
              "      <td>2.1571</td>\n",
              "      <td>48600.0</td>\n",
              "    </tr>\n",
              "    <tr>\n",
              "      <th>13</th>\n",
              "      <td>-114.61</td>\n",
              "      <td>34.83</td>\n",
              "      <td>31.0</td>\n",
              "      <td>2478.0</td>\n",
              "      <td>464.0</td>\n",
              "      <td>1346.0</td>\n",
              "      <td>479.0</td>\n",
              "      <td>3.2120</td>\n",
              "      <td>70400.0</td>\n",
              "    </tr>\n",
              "    <tr>\n",
              "      <th>14</th>\n",
              "      <td>-114.63</td>\n",
              "      <td>32.76</td>\n",
              "      <td>15.0</td>\n",
              "      <td>1448.0</td>\n",
              "      <td>378.0</td>\n",
              "      <td>949.0</td>\n",
              "      <td>300.0</td>\n",
              "      <td>0.8585</td>\n",
              "      <td>45000.0</td>\n",
              "    </tr>\n",
              "  </tbody>\n",
              "</table>\n",
              "</div>"
            ],
            "text/plain": [
              "    longitude  latitude  ...  median_income  median_house_value\n",
              "0     -114.31     34.19  ...         1.4936             66900.0\n",
              "1     -114.47     34.40  ...         1.8200             80100.0\n",
              "2     -114.56     33.69  ...         1.6509             85700.0\n",
              "3     -114.57     33.64  ...         3.1917             73400.0\n",
              "4     -114.57     33.57  ...         1.9250             65500.0\n",
              "5     -114.58     33.63  ...         3.3438             74000.0\n",
              "6     -114.58     33.61  ...         2.6768             82400.0\n",
              "7     -114.59     34.83  ...         1.7083             48500.0\n",
              "8     -114.59     33.61  ...         2.1782             58400.0\n",
              "9     -114.60     34.83  ...         2.1908             48100.0\n",
              "10    -114.60     33.62  ...         2.6797             86500.0\n",
              "11    -114.60     33.60  ...         1.6250             62000.0\n",
              "12    -114.61     34.84  ...         2.1571             48600.0\n",
              "13    -114.61     34.83  ...         3.2120             70400.0\n",
              "14    -114.63     32.76  ...         0.8585             45000.0\n",
              "\n",
              "[15 rows x 9 columns]"
            ]
          },
          "metadata": {
            "tags": []
          }
        }
      ]
    },
    {
      "cell_type": "markdown",
      "metadata": {
        "id": "DUNNPTRl2_6_",
        "colab_type": "text"
      },
      "source": [
        "##STEP 3: INVESTIGATE DATASET\n",
        "Find out how many rows and columns the dataset has. Find the null/missing values and drop them. "
      ]
    },
    {
      "cell_type": "code",
      "metadata": {
        "id": "4PYECppr3k2k",
        "colab_type": "code",
        "outputId": "3eff44e1-de14-490a-f144-107510e72d0b",
        "colab": {
          "base_uri": "https://localhost:8080/",
          "height": 715
        }
      },
      "source": [
        "# WE WILL STORE THE NUMBER OF NULL VALUES FOR EACH COLUMN IN A DATA FRAME CALLED 'a'\n",
        "a = pd.DataFrame(cal_df.isnull().sum())\n",
        "\n",
        "# WE STORE THE NUMBER OF MISSING/NULL VAUES CORRESPONDING TO THE COLUMN NAME IN \n",
        "# A SEPERATE COLUMN CALLED '# of null values'\n",
        "a['# of null values'] = a[0]\n",
        "\n",
        "# WE TAKE THE COLUMNS OF THIS DATAFRAME AND STORE IT IN ANOTHER DATAFRAME CALLED 'b'\n",
        "# in order to display\n",
        "b = a[['# of null values']]\n",
        "\n",
        "# WE PRINT OUT THE NUMBER OF NULL VALUES FOR EACH COLUMN BEFORE WE DROP THE VALUES\n",
        "# AND DISPLAY IT USING OUR DATAFRAME 'b'. WE ALSO SEE HOW MANY ROWS AND COLUMNS OUR\n",
        "# DATASET HAS BEFORE DROPPING MISSING VALUES USING THE .shape function.\n",
        "print('Before Dropping Null Values:')\n",
        "print('# of Rows, Columns: ',cal_df.shape)\n",
        "ICD.display(b)\n",
        "\n",
        "# WE SAY THAT THIS IS A RELATIVELY CLEAN DATASET AND HAS 0 MISSING/NULL VALUES. HOWEVER\n",
        "# FOR PRACTICE WE HAVE GONE AHEAD AND WRITTEN THE CODE FOR DROPPIN NULL VALUES INCASE\n",
        "# ANY HAD SHOWN UP.\n",
        "cal_df = cal_df.dropna(axis=0)\n",
        "\n",
        "# WE REPEAT THE SAME PROCESS OF MAKING A DATAFRAME TO DISPLAY HOW MANY NULL VALUES EACH COLUMN HAS.\n",
        "# HOWEVER THIS TIME, ALL THESE VALUES SHOULD BE ZERO(THAT IS IF, THEY WERE'NT ZERO ALREADY). \n",
        "# WE ONCE AGAIN DISPLAY THE DATAFRAME GIVING US OUR NULL VALUE COUNTS AND PRINT THE NUMBER\n",
        "# OF ROWS AND COLUMNS WE ARE LEFT WITH (THIS IS TO SEE HOW MUCH OF OUR DATA WE HAD TO DROP IN NULL VALUES).\n",
        "# IN OUR CASE, SINCE WE ALREADY HAD A DATASET WITH NO MISSING VALUES WE SHOULD RETAIN OUR\n",
        "# ORIGINAL NUMBER OF ROWS AND COLUMNS\n",
        "a = pd.DataFrame(cal_df.isnull().sum())\n",
        "a['# of null values'] = a[0]\n",
        "b = a[['# of null values']]\n",
        "print('After Dropping Null Values:')\n",
        "print('# of Rows, Columns: ',cal_df.shape)\n",
        "ICD.display(b)"
      ],
      "execution_count": 0,
      "outputs": [
        {
          "output_type": "stream",
          "text": [
            "Before Dropping Null Values:\n",
            "# of Rows, Columns:  (17000, 9)\n"
          ],
          "name": "stdout"
        },
        {
          "output_type": "display_data",
          "data": {
            "text/html": [
              "<div>\n",
              "<style scoped>\n",
              "    .dataframe tbody tr th:only-of-type {\n",
              "        vertical-align: middle;\n",
              "    }\n",
              "\n",
              "    .dataframe tbody tr th {\n",
              "        vertical-align: top;\n",
              "    }\n",
              "\n",
              "    .dataframe thead th {\n",
              "        text-align: right;\n",
              "    }\n",
              "</style>\n",
              "<table border=\"1\" class=\"dataframe\">\n",
              "  <thead>\n",
              "    <tr style=\"text-align: right;\">\n",
              "      <th></th>\n",
              "      <th># of null values</th>\n",
              "    </tr>\n",
              "  </thead>\n",
              "  <tbody>\n",
              "    <tr>\n",
              "      <th>longitude</th>\n",
              "      <td>0</td>\n",
              "    </tr>\n",
              "    <tr>\n",
              "      <th>latitude</th>\n",
              "      <td>0</td>\n",
              "    </tr>\n",
              "    <tr>\n",
              "      <th>housing_median_age</th>\n",
              "      <td>0</td>\n",
              "    </tr>\n",
              "    <tr>\n",
              "      <th>total_rooms</th>\n",
              "      <td>0</td>\n",
              "    </tr>\n",
              "    <tr>\n",
              "      <th>total_bedrooms</th>\n",
              "      <td>0</td>\n",
              "    </tr>\n",
              "    <tr>\n",
              "      <th>population</th>\n",
              "      <td>0</td>\n",
              "    </tr>\n",
              "    <tr>\n",
              "      <th>households</th>\n",
              "      <td>0</td>\n",
              "    </tr>\n",
              "    <tr>\n",
              "      <th>median_income</th>\n",
              "      <td>0</td>\n",
              "    </tr>\n",
              "    <tr>\n",
              "      <th>median_house_value</th>\n",
              "      <td>0</td>\n",
              "    </tr>\n",
              "  </tbody>\n",
              "</table>\n",
              "</div>"
            ],
            "text/plain": [
              "                    # of null values\n",
              "longitude                          0\n",
              "latitude                           0\n",
              "housing_median_age                 0\n",
              "total_rooms                        0\n",
              "total_bedrooms                     0\n",
              "population                         0\n",
              "households                         0\n",
              "median_income                      0\n",
              "median_house_value                 0"
            ]
          },
          "metadata": {
            "tags": []
          }
        },
        {
          "output_type": "stream",
          "text": [
            "After Dropping Null Values:\n",
            "# of Rows, Columns:  (17000, 9)\n"
          ],
          "name": "stdout"
        },
        {
          "output_type": "display_data",
          "data": {
            "text/html": [
              "<div>\n",
              "<style scoped>\n",
              "    .dataframe tbody tr th:only-of-type {\n",
              "        vertical-align: middle;\n",
              "    }\n",
              "\n",
              "    .dataframe tbody tr th {\n",
              "        vertical-align: top;\n",
              "    }\n",
              "\n",
              "    .dataframe thead th {\n",
              "        text-align: right;\n",
              "    }\n",
              "</style>\n",
              "<table border=\"1\" class=\"dataframe\">\n",
              "  <thead>\n",
              "    <tr style=\"text-align: right;\">\n",
              "      <th></th>\n",
              "      <th># of null values</th>\n",
              "    </tr>\n",
              "  </thead>\n",
              "  <tbody>\n",
              "    <tr>\n",
              "      <th>longitude</th>\n",
              "      <td>0</td>\n",
              "    </tr>\n",
              "    <tr>\n",
              "      <th>latitude</th>\n",
              "      <td>0</td>\n",
              "    </tr>\n",
              "    <tr>\n",
              "      <th>housing_median_age</th>\n",
              "      <td>0</td>\n",
              "    </tr>\n",
              "    <tr>\n",
              "      <th>total_rooms</th>\n",
              "      <td>0</td>\n",
              "    </tr>\n",
              "    <tr>\n",
              "      <th>total_bedrooms</th>\n",
              "      <td>0</td>\n",
              "    </tr>\n",
              "    <tr>\n",
              "      <th>population</th>\n",
              "      <td>0</td>\n",
              "    </tr>\n",
              "    <tr>\n",
              "      <th>households</th>\n",
              "      <td>0</td>\n",
              "    </tr>\n",
              "    <tr>\n",
              "      <th>median_income</th>\n",
              "      <td>0</td>\n",
              "    </tr>\n",
              "    <tr>\n",
              "      <th>median_house_value</th>\n",
              "      <td>0</td>\n",
              "    </tr>\n",
              "  </tbody>\n",
              "</table>\n",
              "</div>"
            ],
            "text/plain": [
              "                    # of null values\n",
              "longitude                          0\n",
              "latitude                           0\n",
              "housing_median_age                 0\n",
              "total_rooms                        0\n",
              "total_bedrooms                     0\n",
              "population                         0\n",
              "households                         0\n",
              "median_income                      0\n",
              "median_house_value                 0"
            ]
          },
          "metadata": {
            "tags": []
          }
        }
      ]
    },
    {
      "cell_type": "markdown",
      "metadata": {
        "id": "kRuzhNq_-Brv",
        "colab_type": "text"
      },
      "source": [
        "## STEP 4: FEATURE ENGINEERING\n",
        "We clean the features that need cleaning and add our own features that will give us a better prediction. Accordingly we will drop the features which we feel are not as valuable to our model."
      ]
    },
    {
      "cell_type": "code",
      "metadata": {
        "id": "9Z42MvKaGDgT",
        "colab_type": "code",
        "outputId": "a48562af-e608-429a-9298-b2fdc63dcf67",
        "colab": {
          "base_uri": "https://localhost:8080/",
          "height": 226
        }
      },
      "source": [
        " # WE WILL NOW MAKE NEW FEATURES THAT WE FEEL WILL IMPROVE THE PERFORMANCE OF OUR MODEL.\n",
        " # WE WANT TO BE ABLE TO ADD IT TO OUR DATAFRAME, i.e, WE WILL BE OPERATING ON EXISTING\n",
        " # COLUMNS IN OUR DATAFRAME TO MAKE NEW COLUMNS THAT WHILL HELP OUR PREDICTION.\n",
        "\n",
        "cal_df['num_rooms'] = cal_df['total_rooms'] / cal_df['households']\n",
        "cal_df['num_bedrooms'] = cal_df['total_bedrooms'] / cal_df['households']\n",
        "cal_df['persons_per_house'] = cal_df['population'] / cal_df['households']\n",
        "cal_df.head()"
      ],
      "execution_count": 0,
      "outputs": [
        {
          "output_type": "execute_result",
          "data": {
            "text/html": [
              "<div>\n",
              "<style scoped>\n",
              "    .dataframe tbody tr th:only-of-type {\n",
              "        vertical-align: middle;\n",
              "    }\n",
              "\n",
              "    .dataframe tbody tr th {\n",
              "        vertical-align: top;\n",
              "    }\n",
              "\n",
              "    .dataframe thead th {\n",
              "        text-align: right;\n",
              "    }\n",
              "</style>\n",
              "<table border=\"1\" class=\"dataframe\">\n",
              "  <thead>\n",
              "    <tr style=\"text-align: right;\">\n",
              "      <th></th>\n",
              "      <th>longitude</th>\n",
              "      <th>latitude</th>\n",
              "      <th>housing_median_age</th>\n",
              "      <th>total_rooms</th>\n",
              "      <th>total_bedrooms</th>\n",
              "      <th>population</th>\n",
              "      <th>households</th>\n",
              "      <th>median_income</th>\n",
              "      <th>median_house_value</th>\n",
              "      <th>num_rooms</th>\n",
              "      <th>num_bedrooms</th>\n",
              "      <th>persons_per_house</th>\n",
              "    </tr>\n",
              "  </thead>\n",
              "  <tbody>\n",
              "    <tr>\n",
              "      <th>0</th>\n",
              "      <td>-114.31</td>\n",
              "      <td>34.19</td>\n",
              "      <td>15.0</td>\n",
              "      <td>5612.0</td>\n",
              "      <td>1283.0</td>\n",
              "      <td>1015.0</td>\n",
              "      <td>472.0</td>\n",
              "      <td>1.4936</td>\n",
              "      <td>66900.0</td>\n",
              "      <td>11.889831</td>\n",
              "      <td>2.718220</td>\n",
              "      <td>2.150424</td>\n",
              "    </tr>\n",
              "    <tr>\n",
              "      <th>1</th>\n",
              "      <td>-114.47</td>\n",
              "      <td>34.40</td>\n",
              "      <td>19.0</td>\n",
              "      <td>7650.0</td>\n",
              "      <td>1901.0</td>\n",
              "      <td>1129.0</td>\n",
              "      <td>463.0</td>\n",
              "      <td>1.8200</td>\n",
              "      <td>80100.0</td>\n",
              "      <td>16.522678</td>\n",
              "      <td>4.105832</td>\n",
              "      <td>2.438445</td>\n",
              "    </tr>\n",
              "    <tr>\n",
              "      <th>2</th>\n",
              "      <td>-114.56</td>\n",
              "      <td>33.69</td>\n",
              "      <td>17.0</td>\n",
              "      <td>720.0</td>\n",
              "      <td>174.0</td>\n",
              "      <td>333.0</td>\n",
              "      <td>117.0</td>\n",
              "      <td>1.6509</td>\n",
              "      <td>85700.0</td>\n",
              "      <td>6.153846</td>\n",
              "      <td>1.487179</td>\n",
              "      <td>2.846154</td>\n",
              "    </tr>\n",
              "    <tr>\n",
              "      <th>3</th>\n",
              "      <td>-114.57</td>\n",
              "      <td>33.64</td>\n",
              "      <td>14.0</td>\n",
              "      <td>1501.0</td>\n",
              "      <td>337.0</td>\n",
              "      <td>515.0</td>\n",
              "      <td>226.0</td>\n",
              "      <td>3.1917</td>\n",
              "      <td>73400.0</td>\n",
              "      <td>6.641593</td>\n",
              "      <td>1.491150</td>\n",
              "      <td>2.278761</td>\n",
              "    </tr>\n",
              "    <tr>\n",
              "      <th>4</th>\n",
              "      <td>-114.57</td>\n",
              "      <td>33.57</td>\n",
              "      <td>20.0</td>\n",
              "      <td>1454.0</td>\n",
              "      <td>326.0</td>\n",
              "      <td>624.0</td>\n",
              "      <td>262.0</td>\n",
              "      <td>1.9250</td>\n",
              "      <td>65500.0</td>\n",
              "      <td>5.549618</td>\n",
              "      <td>1.244275</td>\n",
              "      <td>2.381679</td>\n",
              "    </tr>\n",
              "  </tbody>\n",
              "</table>\n",
              "</div>"
            ],
            "text/plain": [
              "   longitude  latitude  ...  num_bedrooms  persons_per_house\n",
              "0    -114.31     34.19  ...      2.718220           2.150424\n",
              "1    -114.47     34.40  ...      4.105832           2.438445\n",
              "2    -114.56     33.69  ...      1.487179           2.846154\n",
              "3    -114.57     33.64  ...      1.491150           2.278761\n",
              "4    -114.57     33.57  ...      1.244275           2.381679\n",
              "\n",
              "[5 rows x 12 columns]"
            ]
          },
          "metadata": {
            "tags": []
          },
          "execution_count": 16
        }
      ]
    },
    {
      "cell_type": "markdown",
      "metadata": {
        "id": "u9Kj2Z3Mwu77",
        "colab_type": "text"
      },
      "source": [
        "# STEP 4.5: MAKE YOUR OWN FEATURE"
      ]
    },
    {
      "cell_type": "code",
      "metadata": {
        "id": "Wq0hl1cUx18-",
        "colab_type": "code",
        "outputId": "34ca0e3c-9846-4a76-db47-88c59ef9150b",
        "colab": {
          "base_uri": "https://localhost:8080/",
          "height": 226
        }
      },
      "source": [
        "# ..... LET THEM EXPLORE\n",
        "cal_df['persons_per_bedroom'] = cal_df['population'] / cal_df['total_bedrooms']\n",
        "cal_df['rooms_per_person'] = cal_df['total_rooms'] / cal_df['population']\n",
        "cal_df['room_value'] = cal_df['median_house_value'] / cal_df['num_rooms']\n",
        "cal_df['bedroom_value'] = cal_df['median_house_value'] / cal_df['num_bedrooms']\n",
        "cal_df.head()\n"
      ],
      "execution_count": 0,
      "outputs": [
        {
          "output_type": "execute_result",
          "data": {
            "text/html": [
              "<div>\n",
              "<style scoped>\n",
              "    .dataframe tbody tr th:only-of-type {\n",
              "        vertical-align: middle;\n",
              "    }\n",
              "\n",
              "    .dataframe tbody tr th {\n",
              "        vertical-align: top;\n",
              "    }\n",
              "\n",
              "    .dataframe thead th {\n",
              "        text-align: right;\n",
              "    }\n",
              "</style>\n",
              "<table border=\"1\" class=\"dataframe\">\n",
              "  <thead>\n",
              "    <tr style=\"text-align: right;\">\n",
              "      <th></th>\n",
              "      <th>longitude</th>\n",
              "      <th>latitude</th>\n",
              "      <th>housing_median_age</th>\n",
              "      <th>total_rooms</th>\n",
              "      <th>total_bedrooms</th>\n",
              "      <th>population</th>\n",
              "      <th>households</th>\n",
              "      <th>median_income</th>\n",
              "      <th>median_house_value</th>\n",
              "      <th>num_rooms</th>\n",
              "      <th>num_bedrooms</th>\n",
              "      <th>persons_per_house</th>\n",
              "      <th>persons_per_bedroom</th>\n",
              "      <th>room_per_person</th>\n",
              "      <th>rooms_per_person</th>\n",
              "    </tr>\n",
              "  </thead>\n",
              "  <tbody>\n",
              "    <tr>\n",
              "      <th>0</th>\n",
              "      <td>-114.31</td>\n",
              "      <td>34.19</td>\n",
              "      <td>15.0</td>\n",
              "      <td>5612.0</td>\n",
              "      <td>1283.0</td>\n",
              "      <td>1015.0</td>\n",
              "      <td>472.0</td>\n",
              "      <td>1.4936</td>\n",
              "      <td>66900.0</td>\n",
              "      <td>11.889831</td>\n",
              "      <td>2.718220</td>\n",
              "      <td>2.150424</td>\n",
              "      <td>0.791115</td>\n",
              "      <td>5.529064</td>\n",
              "      <td>5.529064</td>\n",
              "    </tr>\n",
              "    <tr>\n",
              "      <th>1</th>\n",
              "      <td>-114.47</td>\n",
              "      <td>34.40</td>\n",
              "      <td>19.0</td>\n",
              "      <td>7650.0</td>\n",
              "      <td>1901.0</td>\n",
              "      <td>1129.0</td>\n",
              "      <td>463.0</td>\n",
              "      <td>1.8200</td>\n",
              "      <td>80100.0</td>\n",
              "      <td>16.522678</td>\n",
              "      <td>4.105832</td>\n",
              "      <td>2.438445</td>\n",
              "      <td>0.593898</td>\n",
              "      <td>6.775908</td>\n",
              "      <td>6.775908</td>\n",
              "    </tr>\n",
              "    <tr>\n",
              "      <th>2</th>\n",
              "      <td>-114.56</td>\n",
              "      <td>33.69</td>\n",
              "      <td>17.0</td>\n",
              "      <td>720.0</td>\n",
              "      <td>174.0</td>\n",
              "      <td>333.0</td>\n",
              "      <td>117.0</td>\n",
              "      <td>1.6509</td>\n",
              "      <td>85700.0</td>\n",
              "      <td>6.153846</td>\n",
              "      <td>1.487179</td>\n",
              "      <td>2.846154</td>\n",
              "      <td>1.913793</td>\n",
              "      <td>2.162162</td>\n",
              "      <td>2.162162</td>\n",
              "    </tr>\n",
              "    <tr>\n",
              "      <th>3</th>\n",
              "      <td>-114.57</td>\n",
              "      <td>33.64</td>\n",
              "      <td>14.0</td>\n",
              "      <td>1501.0</td>\n",
              "      <td>337.0</td>\n",
              "      <td>515.0</td>\n",
              "      <td>226.0</td>\n",
              "      <td>3.1917</td>\n",
              "      <td>73400.0</td>\n",
              "      <td>6.641593</td>\n",
              "      <td>1.491150</td>\n",
              "      <td>2.278761</td>\n",
              "      <td>1.528190</td>\n",
              "      <td>2.914563</td>\n",
              "      <td>2.914563</td>\n",
              "    </tr>\n",
              "    <tr>\n",
              "      <th>4</th>\n",
              "      <td>-114.57</td>\n",
              "      <td>33.57</td>\n",
              "      <td>20.0</td>\n",
              "      <td>1454.0</td>\n",
              "      <td>326.0</td>\n",
              "      <td>624.0</td>\n",
              "      <td>262.0</td>\n",
              "      <td>1.9250</td>\n",
              "      <td>65500.0</td>\n",
              "      <td>5.549618</td>\n",
              "      <td>1.244275</td>\n",
              "      <td>2.381679</td>\n",
              "      <td>1.914110</td>\n",
              "      <td>2.330128</td>\n",
              "      <td>2.330128</td>\n",
              "    </tr>\n",
              "  </tbody>\n",
              "</table>\n",
              "</div>"
            ],
            "text/plain": [
              "   longitude  latitude  ...  room_per_person  rooms_per_person\n",
              "0    -114.31     34.19  ...         5.529064          5.529064\n",
              "1    -114.47     34.40  ...         6.775908          6.775908\n",
              "2    -114.56     33.69  ...         2.162162          2.162162\n",
              "3    -114.57     33.64  ...         2.914563          2.914563\n",
              "4    -114.57     33.57  ...         2.330128          2.330128\n",
              "\n",
              "[5 rows x 15 columns]"
            ]
          },
          "metadata": {
            "tags": []
          },
          "execution_count": 22
        }
      ]
    },
    {
      "cell_type": "markdown",
      "metadata": {
        "id": "Lo_t25FnwYQy",
        "colab_type": "text"
      },
      "source": [
        "# STEP 5: TRAINING THE MACHINE LEARNING MODEL\n",
        "## TYPE 1: WITHOUT FEATURE ENGINEERING"
      ]
    },
    {
      "cell_type": "code",
      "metadata": {
        "id": "51tJyaXnwcE8",
        "colab_type": "code",
        "colab": {}
      },
      "source": [
        "# TRAIN MODEL WITH ALL THE COLUMNS\n",
        "import statsmodels.formula.api as smf \n",
        "from sklearn.model_selection import train_test_split\n",
        "from math import sqrt\n",
        "from sklearn.metrics import mean_squared_error\n",
        "\n",
        "train, validate  = train_test_split(cal_df, test_size=0.2, random_state=0)\n",
        "model = smf.ols(formula= \"median_house_value ~ housing_median_age + total_rooms + total_bedrooms + population + households + median_income + latitude + longitude\", data = train).fit()\n",
        "model.summary()\n",
        "\n",
        "predicted_validation = model.predict(validate)\n",
        "\n"
      ],
      "execution_count": 0,
      "outputs": []
    },
    {
      "cell_type": "markdown",
      "metadata": {
        "id": "EA5DkVspxB5r",
        "colab_type": "text"
      },
      "source": [
        "TYPE 2: WITH FEATURE ENGINEERING"
      ]
    },
    {
      "cell_type": "code",
      "metadata": {
        "id": "LF2OhrUQxH8r",
        "colab_type": "code",
        "colab": {}
      },
      "source": [
        "# TRAIN MODEL WIHT FEATURE ENGINEERING\n",
        "tr, te = train_test_split(cal_df, test_size=0.2, random_state=0)\n",
        "new_model = smf.ols(formula= \"median_house_value ~ num_rooms + num_bedrooms + persons_per_house + persons_per_bedroom   + rooms_per_person + housing_median_age + median_income + latitude + longitude + total_rooms + total_bedrooms + population + households\", data = tr).fit()\n",
        "new_model.summary()\n",
        "\n",
        "new_predicted_validation = new_model.predict(te)"
      ],
      "execution_count": 0,
      "outputs": []
    },
    {
      "cell_type": "markdown",
      "metadata": {
        "id": "67e8Ngfzwnja",
        "colab_type": "text"
      },
      "source": [
        "# STEP 6: RESULTS OF THE MACHINE LEARNING MODEL"
      ]
    },
    {
      "cell_type": "code",
      "metadata": {
        "id": "1SuJOCRswp8x",
        "colab_type": "code",
        "outputId": "4b1b3814-1e0b-4493-fa46-1aee689698f0",
        "colab": {
          "base_uri": "https://localhost:8080/",
          "height": 34
        }
      },
      "source": [
        "# WITHOUT FEATURE ENGINEERING\n",
        "rmse = sqrt(mean_squared_error(validate[\"median_house_value\"], predicted_validation))\n",
        "rmse\n",
        " "
      ],
      "execution_count": 0,
      "outputs": [
        {
          "output_type": "execute_result",
          "data": {
            "text/plain": [
              "68833.25637469959"
            ]
          },
          "metadata": {
            "tags": []
          },
          "execution_count": 15
        }
      ]
    },
    {
      "cell_type": "code",
      "metadata": {
        "id": "E1PNmG-lDTBY",
        "colab_type": "code",
        "outputId": "c91b0ed5-9046-45a4-f19c-81cf96b20a78",
        "colab": {
          "base_uri": "https://localhost:8080/",
          "height": 34
        }
      },
      "source": [
        "# WITH FEATURE ENGINEERING\n",
        "new_rmse = sqrt(mean_squared_error(te[\"median_house_value\"], new_predicted_validation))\n",
        "new_rmse"
      ],
      "execution_count": 0,
      "outputs": [
        {
          "output_type": "execute_result",
          "data": {
            "text/plain": [
              "66898.30711792968"
            ]
          },
          "metadata": {
            "tags": []
          },
          "execution_count": 26
        }
      ]
    }
  ]
}